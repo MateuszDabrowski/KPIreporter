{
 "cells": [
  {
   "cell_type": "markdown",
   "metadata": {},
   "source": [
    "# KPI Reporter"
   ]
  },
  {
   "cell_type": "markdown",
   "metadata": {},
   "source": [
    "Creates monthly KPI .csv based on data points imported via Eloqua API."
   ]
  },
  {
   "cell_type": "markdown",
   "metadata": {},
   "source": [
    "## Data processing"
   ]
  },
  {
   "cell_type": "markdown",
   "metadata": {},
   "source": [
    "### Import and init modules:"
   ]
  },
  {
   "cell_type": "code",
   "execution_count": 1,
   "metadata": {},
   "outputs": [],
   "source": [
    "import json\n",
    "import time\n",
    "import requests\n",
    "import datetime\n",
    "import datascience as ds\n",
    "from datascience.predicates import are\n",
    "from IPython.display import clear_output\n",
    "import numpy as np\n",
    "\n",
    "%matplotlib inline\n",
    "import matplotlib.pyplot as plots\n",
    "plots.style.use('fivethirtyeight')"
   ]
  },
  {
   "cell_type": "markdown",
   "metadata": {},
   "source": [
    "### Data sources\n",
    "\n",
    "- *eloqua_auth*\n",
    "- *eloqua_rest*\n",
    "- *kpi*\n",
    "- *asset_names*"
   ]
  },
  {
   "cell_type": "code",
   "execution_count": 2,
   "metadata": {},
   "outputs": [],
   "source": [
    "# Get Eloqua auth key\n",
    "with open('auth.key') as key:\n",
    "    eloqua_auth = key.read()\n",
    "    eloqua_rest = 'https://secure.p06.eloqua.com/api/REST/2.0/'\n",
    "\n",
    "# KPI segment ID's\n",
    "kpi = {\n",
    "    'contact_count': '3666',\n",
    "    'newsletter_count': '6786',\n",
    "    'newsletter_profinfo_count': '6791',\n",
    "    'alert_count': '6792',\n",
    "    'sent_count': '6793',\n",
    "    'open_count': '6794',\n",
    "    'click_count': '6795',\n",
    "    'form_count': '6796',\n",
    "    'not_opened_count': '6797',\n",
    "    'cookie_count': '6798',\n",
    "    'unsub_form': '892'\n",
    "}\n",
    "\n",
    "# List of asset names for eloqua_asset_get()\n",
    "asset_names = {\n",
    "    'LP': 'landingPage',\n",
    "    'Form': 'form',\n",
    "    'Mail': 'email',\n",
    "    'Campaign': 'campaign',\n",
    "    'Program': 'program',\n",
    "    'Filter': 'contact/filter',\n",
    "    'Segment': 'contact/segment',\n",
    "    'Image': 'image'\n",
    "}"
   ]
  },
  {
   "cell_type": "markdown",
   "metadata": {},
   "source": [
    "### Helper functions\n",
    "\n",
    "- __api_request__(*root, call='get', params=None, data=None, files=None*): _Returns response from Eloqua API call_\n",
    "- __eloqua_segment_refresh__(*segment_id*): _Returns segment count when segment is refreshed (string)_\n",
    "- __eloqua_get_form_data__(*form_id*): _Returns form data of Form with given ID_\n",
    "- __segment_array_for__(*category*): _Returns array of results for given KPI category_\n",
    "- __blacklist_data__(): _Returns number of blacklisted users via Subscription Center unsub form_"
   ]
  },
  {
   "cell_type": "code",
   "execution_count": 3,
   "metadata": {},
   "outputs": [],
   "source": [
    "def api_request(root, call='get', params=None, data=None, files=None):\n",
    "    '''\n",
    "    Arguments:\n",
    "        root - root URL of API call\n",
    "        call - either GET/POST/PUT/DELETE\n",
    "    Returns response from Eloqua API call\n",
    "\n",
    "    '''\n",
    "\n",
    "    # Assings correct authorization method\n",
    "    headers = {'Authorization': eloqua_auth}\n",
    "    if not files:\n",
    "        headers['Content-Type'] = 'application/json'\n",
    "\n",
    "    # Assings correct api call\n",
    "    if call == 'get':\n",
    "        response = requests.get(\n",
    "            root,\n",
    "            headers=headers,\n",
    "            params=params)\n",
    "    elif call == 'post':\n",
    "        response = requests.post(\n",
    "            root,\n",
    "            headers=headers,\n",
    "            data=data,\n",
    "            files=files)\n",
    "    elif call == 'put':\n",
    "        response = requests.put(\n",
    "            root,\n",
    "            headers=headers,\n",
    "            data=data,\n",
    "            files=files)\n",
    "    elif call == 'delete':\n",
    "        response = requests.delete(root, headers=headers)\n",
    "\n",
    "    return response\n",
    "\n",
    "\n",
    "def eloqua_segment_refresh(segment_id):\n",
    "    '''\n",
    "    Returns segment count when segment is refreshed (string)\n",
    "    '''\n",
    "\n",
    "    # Post refresh queue\n",
    "    root = eloqua_rest + 'assets/contact/segment/queue/' + segment_id\n",
    "    queue = api_request(root, call='post')\n",
    "    queue_data = queue.json()\n",
    "    queued_at = queue_data['queuedAt']\n",
    "\n",
    "    # Check if queue has been resolved and segment is refreshed\n",
    "    root = eloqua_rest + 'assets/contact/segment/' + segment_id + '/count'\n",
    "    while True:\n",
    "        time.sleep(10)\n",
    "        refresh = api_request(root)\n",
    "        refresh_data = refresh.json()\n",
    "        calculated_at = refresh_data.get('lastCalculatedAt', '0')\n",
    "        if int(calculated_at) > int(queued_at):\n",
    "            break\n",
    "\n",
    "    return refresh_data['count']\n",
    "\n",
    "\n",
    "def eloqua_asset_get(asset_id, asset_type, depth=''):\n",
    "    '''\n",
    "    Returns name and optionally code of Eloqua asst of given ID\n",
    "    '''\n",
    "\n",
    "    # Gets required endpoint\n",
    "    endpoint = asset_names.get(asset_type)\n",
    "\n",
    "    # Gets data of requested asset\n",
    "    root = f'{eloqua_rest}assets/{endpoint}/{asset_id}'\n",
    "    params = {'depth': 'complete'}\n",
    "    response = api_request(root, params=params)\n",
    "    asset_response = response.json()\n",
    "\n",
    "    # Returns full response\n",
    "    if depth == 'complete':\n",
    "        return asset_response\n",
    "\n",
    "    # Gets name and code of the asset\n",
    "    name = asset_response['name']\n",
    "    if asset_type in ['LP', 'Mail']:\n",
    "        code = asset_response['htmlContent']['html']\n",
    "    elif asset_type == 'Form':\n",
    "        code = asset_response['html']\n",
    "\n",
    "    if asset_type in ['LP', 'Mail', 'Form']:\n",
    "        return (name, code)\n",
    "    else:\n",
    "        return name\n",
    "    \n",
    "\n",
    "def eloqua_get_form_data(form_id):\n",
    "    '''\n",
    "    Returns form data of Form with given ID\n",
    "    '''\n",
    "    all_fills = []\n",
    "    page = 1\n",
    "\n",
    "    while True:\n",
    "        # Gets fills of requested form\n",
    "        root = f'{eloqua_rest}data/form/{form_id}'\n",
    "        params = {'depth': 'complete',\n",
    "                  'count': '100',\n",
    "                  'page': page}\n",
    "        response = api_request(root, params=params)\n",
    "        fills = response.json()\n",
    "\n",
    "        all_fills.extend(fills['elements'])\n",
    "\n",
    "        # Stops iteration when full list is obtained\n",
    "        if fills['total'] - page * int(params.get('count')) < 0:\n",
    "            break\n",
    "\n",
    "        # Increments page to get next part of outcomes\n",
    "        page += 1\n",
    "\n",
    "    return (all_fills, fills['total'])\n",
    "\n",
    "\n",
    "def segment_array_for(category):\n",
    "    '''\n",
    "    Returns array of results for given KPI category\n",
    "    '''\n",
    "\n",
    "    # Refresh segment to get up to date data\n",
    "    eloqua_segment_refresh(kpi[category])\n",
    "\n",
    "    # Gets data from segment\n",
    "    segment_json = eloqua_asset_get(\n",
    "        kpi[category],\n",
    "        asset_type='Segment',\n",
    "        depth='complete'\n",
    "    )\n",
    "\n",
    "    # Saves counts to appropriate variables\n",
    "    for element in segment_json['elements']:\n",
    "        if element['filter']['name'] == 'ALL+WMR':\n",
    "            eloqua_and_wmr_contacts = int(element['filter']['count'])\n",
    "        elif element['filter']['name'] == 'LEG+WMR':\n",
    "            leg_and_wmr_contacts = int(element['filter']['count'])\n",
    "        elif element['filter']['name'] == 'PUB+WMR':\n",
    "            pub_and_wmr_contacts = int(element['filter']['count'])\n",
    "        elif element['filter']['name'] == 'FIR+WMR':\n",
    "            fir_and_wmr_contacts = int(element['filter']['count'])\n",
    "        elif element['filter']['name'] == 'ALL-WMR':\n",
    "            eloqua_sans_wmr_contacts = int(element['filter']['count'])\n",
    "        elif element['filter']['name'] == 'LEG-WMR':\n",
    "            leg_sans_wmr_contacts = int(element['filter']['count'])\n",
    "        elif element['filter']['name'] == 'PUB-WMR':\n",
    "            pub_sans_wmr_contacts = int(element['filter']['count'])\n",
    "        elif element['filter']['name'] == 'FIR-WMR':\n",
    "            fir_sans_wmr_contacts = int(element['filter']['count'])\n",
    "\n",
    "    # Calculates others\n",
    "    oth_and_wmr_contacts = eloqua_and_wmr_contacts - \\\n",
    "        (leg_and_wmr_contacts + pub_and_wmr_contacts + fir_and_wmr_contacts)\n",
    "    oth_sans_wmr_contacts = eloqua_sans_wmr_contacts - \\\n",
    "        (leg_sans_wmr_contacts + pub_sans_wmr_contacts + fir_sans_wmr_contacts)\n",
    "\n",
    "    return ds.make_array(\n",
    "        eloqua_and_wmr_contacts, eloqua_sans_wmr_contacts,\n",
    "        leg_and_wmr_contacts, leg_sans_wmr_contacts,\n",
    "        pub_and_wmr_contacts, pub_sans_wmr_contacts,\n",
    "        fir_and_wmr_contacts, fir_sans_wmr_contacts,\n",
    "        oth_and_wmr_contacts, oth_sans_wmr_contacts\n",
    "    )\n",
    "\n",
    "\n",
    "def blacklist_data():\n",
    "    '''\n",
    "    Returns number of blacklisted users via Subscription Center unsub form\n",
    "    '''\n",
    "    unsub_form_id = kpi['unsub_form']\n",
    "\n",
    "    # Gets unsubscription form data\n",
    "    unsub_list = eloqua_get_form_data(unsub_form_id)[0]\n",
    "\n",
    "    # Create list of tuples (mail, submit_date)\n",
    "    blacklisted = []\n",
    "    for submit in unsub_list:\n",
    "        for field in submit['fieldValues']:\n",
    "            email_address = field.get('value', '')\n",
    "            if '@' in email_address:\n",
    "                break\n",
    "        submit_date = int(submit.get('submittedAt', '0'))\n",
    "        blacklisted.append((email_address, submit_date))\n",
    "\n",
    "    # Calculate epoch month ago\n",
    "    timeframe = datetime.datetime.now() + datetime.timedelta(-31)\n",
    "    epoch_timeframe = int(timeframe.timestamp())\n",
    "\n",
    "    # Filter only submissions from last month\n",
    "    last_month_blacklist = [mail for mail,\n",
    "                            date in blacklisted if date > epoch_timeframe]\n",
    "\n",
    "    # Deduplicate mails\n",
    "    last_month_blacklist = list(set(last_month_blacklist))\n",
    "\n",
    "    return ds.make_array(0, len(last_month_blacklist), 0, 0, 0, 0, 0, 0, 0, len(last_month_blacklist))"
   ]
  },
  {
   "cell_type": "markdown",
   "metadata": {},
   "source": [
    "### Table creator\n",
    "\n",
    "- Creates *kpi_table*\n",
    "- Saves it as .csv\n",
    "\n",
    "__May need few minutes to process all api calls and data__"
   ]
  },
  {
   "cell_type": "markdown",
   "metadata": {},
   "source": [
    "» Creating table for KPI data"
   ]
  },
  {
   "cell_type": "code",
   "execution_count": 4,
   "metadata": {},
   "outputs": [],
   "source": [
    "kpi_table = ds.Table().with_column(\n",
    "    'Segment',\n",
    "    ds.make_array(\n",
    "        'ALL + WMR', 'ALL - WMR',\n",
    "        'LEG + WMR', 'LEG - WMR',\n",
    "        'PUB + WMR', 'PUB - WMR',\n",
    "        'FIR + WMR', 'FIR - WMR',\n",
    "        'OTH + WMR', 'OTH - WMR'\n",
    "    )\n",
    ")"
   ]
  },
  {
   "cell_type": "markdown",
   "metadata": {},
   "source": [
    "» Gathering data with Eloqua API calls"
   ]
  },
  {
   "cell_type": "code",
   "execution_count": 5,
   "metadata": {},
   "outputs": [
    {
     "name": "stdout",
     "output_type": "stream",
     "text": [
      "  › Imported contact count data\n"
     ]
    }
   ],
   "source": [
    "contact_count = segment_array_for('contact_count')\n",
    "print('  › Imported contact count data')"
   ]
  },
  {
   "cell_type": "code",
   "execution_count": 6,
   "metadata": {},
   "outputs": [
    {
     "name": "stdout",
     "output_type": "stream",
     "text": [
      "  › Imported newsletter count data\n"
     ]
    }
   ],
   "source": [
    "newsletter_count = segment_array_for('newsletter_count')\n",
    "print('  › Imported newsletter count data')"
   ]
  },
  {
   "cell_type": "code",
   "execution_count": 7,
   "metadata": {},
   "outputs": [
    {
     "name": "stdout",
     "output_type": "stream",
     "text": [
      "  › Imported newsletter profinfo count data\n"
     ]
    }
   ],
   "source": [
    "newsletter_profinfo_count = segment_array_for('newsletter_profinfo_count')\n",
    "print('  › Imported newsletter profinfo count data')"
   ]
  },
  {
   "cell_type": "code",
   "execution_count": 8,
   "metadata": {},
   "outputs": [
    {
     "name": "stdout",
     "output_type": "stream",
     "text": [
      "  › Imported alert count data\n"
     ]
    }
   ],
   "source": [
    "alert_count = segment_array_for('alert_count')\n",
    "print('  › Imported alert count data')"
   ]
  },
  {
   "cell_type": "code",
   "execution_count": 9,
   "metadata": {},
   "outputs": [
    {
     "name": "stdout",
     "output_type": "stream",
     "text": [
      "  › Imported sent count data\n"
     ]
    }
   ],
   "source": [
    "sent_count = segment_array_for('sent_count')\n",
    "print('  › Imported sent count data')"
   ]
  },
  {
   "cell_type": "code",
   "execution_count": 10,
   "metadata": {},
   "outputs": [
    {
     "name": "stdout",
     "output_type": "stream",
     "text": [
      "  › Imported open count data\n"
     ]
    }
   ],
   "source": [
    "open_count = segment_array_for('open_count')\n",
    "print('  › Imported open count data')"
   ]
  },
  {
   "cell_type": "code",
   "execution_count": 11,
   "metadata": {},
   "outputs": [
    {
     "name": "stdout",
     "output_type": "stream",
     "text": [
      "  › Imported click count data\n"
     ]
    }
   ],
   "source": [
    "click_count = segment_array_for('click_count')\n",
    "print('  › Imported click count data')"
   ]
  },
  {
   "cell_type": "code",
   "execution_count": 12,
   "metadata": {},
   "outputs": [
    {
     "name": "stdout",
     "output_type": "stream",
     "text": [
      "  › Imported form count data\n"
     ]
    }
   ],
   "source": [
    "form_count = segment_array_for('form_count')\n",
    "print('  › Imported form count data')"
   ]
  },
  {
   "cell_type": "code",
   "execution_count": 13,
   "metadata": {},
   "outputs": [
    {
     "name": "stdout",
     "output_type": "stream",
     "text": [
      "  › Imported blacklist data\n"
     ]
    }
   ],
   "source": [
    "unsub_count = blacklist_data()\n",
    "print('  › Imported blacklist data')"
   ]
  },
  {
   "cell_type": "code",
   "execution_count": 14,
   "metadata": {},
   "outputs": [
    {
     "name": "stdout",
     "output_type": "stream",
     "text": [
      "  › Imported not opened count data\n"
     ]
    }
   ],
   "source": [
    "not_opened_count = segment_array_for('not_opened_count')\n",
    "print('  › Imported not opened count data')"
   ]
  },
  {
   "cell_type": "code",
   "execution_count": 15,
   "metadata": {},
   "outputs": [
    {
     "name": "stdout",
     "output_type": "stream",
     "text": [
      "  › Imported cookie count data\n"
     ]
    }
   ],
   "source": [
    "cookie_count = segment_array_for('cookie_count')\n",
    "print('  › Imported cookie count data')"
   ]
  },
  {
   "cell_type": "markdown",
   "metadata": {},
   "source": [
    "» Adding data columns to *kpi_table*"
   ]
  },
  {
   "cell_type": "code",
   "execution_count": 16,
   "metadata": {},
   "outputs": [],
   "source": [
    "kpi_table = kpi_table.with_columns(\n",
    "    'Contacts', contact_count,\n",
    "    'NSL', newsletter_count,\n",
    "    'NSL Prof', newsletter_profinfo_count,\n",
    "    'Alert', alert_count,\n",
    "    'Sent (M)', sent_count,\n",
    "    'Open (M)', open_count,\n",
    "    'Click (M)', click_count,\n",
    "    'Form (M)', form_count,\n",
    "    'Unsub (M)', unsub_count,\n",
    "    'Not Opened 10+ (Y)', not_opened_count,\n",
    "    'Cookie Linked (A)', cookie_count\n",
    ")"
   ]
  },
  {
   "cell_type": "markdown",
   "metadata": {},
   "source": [
    "» Saving *kpi_table* to .csv"
   ]
  },
  {
   "cell_type": "code",
   "execution_count": 17,
   "metadata": {},
   "outputs": [],
   "source": [
    "today = str(datetime.date.today().strftime('%m-%y'))\n",
    "kpi_table.to_csv(f'WKPL_KPI_{today}.csv')"
   ]
  },
  {
   "cell_type": "markdown",
   "metadata": {},
   "source": [
    "### Option to load *kpi_table* from .csv file"
   ]
  },
  {
   "cell_type": "code",
   "execution_count": 18,
   "metadata": {},
   "outputs": [],
   "source": [
    "# Commented out to not interfere with Run all scenario\n",
    "#kpi_table = ds.Table.read_table('WKPL_KPI_06-18.csv')"
   ]
  },
  {
   "cell_type": "markdown",
   "metadata": {},
   "source": [
    "## Monthly KPI Data"
   ]
  },
  {
   "cell_type": "code",
   "execution_count": 19,
   "metadata": {},
   "outputs": [
    {
     "name": "stdout",
     "output_type": "stream",
     "text": [
      "» Output cleaned\n"
     ]
    }
   ],
   "source": [
    "kpi_table.show()\n",
    "\n",
    "# Clear the output after checking it is correct\n",
    "time.sleep(10)\n",
    "clear_output(wait=True)\n",
    "print('» Output cleaned')"
   ]
  }
 ],
 "metadata": {
  "kernelspec": {
   "display_name": "Python 3",
   "language": "python",
   "name": "python3"
  },
  "language_info": {
   "codemirror_mode": {
    "name": "ipython",
    "version": 3
   },
   "file_extension": ".py",
   "mimetype": "text/x-python",
   "name": "python",
   "nbconvert_exporter": "python",
   "pygments_lexer": "ipython3",
   "version": "3.6.3"
  }
 },
 "nbformat": 4,
 "nbformat_minor": 2
}
