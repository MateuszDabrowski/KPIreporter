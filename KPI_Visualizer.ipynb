{
 "cells": [
  {
   "cell_type": "markdown",
   "metadata": {},
   "source": [
    "# KPI Visualizer"
   ]
  },
  {
   "cell_type": "markdown",
   "metadata": {},
   "source": [
    "Creates overview KPI .xls by data manipulation of available monthly data points."
   ]
  },
  {
   "cell_type": "markdown",
   "metadata": {},
   "source": [
    "## Data processing"
   ]
  },
  {
   "cell_type": "markdown",
   "metadata": {},
   "source": [
    "### Import and init modules:"
   ]
  },
  {
   "cell_type": "code",
   "execution_count": 13,
   "metadata": {},
   "outputs": [],
   "source": [
    "import os\n",
    "import openpyxl\n",
    "from openpyxl.chart import ScatterChart, LineChart, Reference, Series\n",
    "from openpyxl.utils.dataframe import dataframe_to_rows\n",
    "\n",
    "import datascience as ds\n",
    "from datascience.predicates import are\n",
    "import numpy as np\n",
    "\n",
    "%matplotlib inline\n",
    "import matplotlib.pyplot as plots\n",
    "plots.style.use('fivethirtyeight')"
   ]
  },
  {
   "cell_type": "markdown",
   "metadata": {},
   "source": [
    "### List available KPI data points"
   ]
  },
  {
   "cell_type": "code",
   "execution_count": 14,
   "metadata": {},
   "outputs": [],
   "source": [
    "files = os.listdir()\n",
    "monthly_kpi = [f for f in files if f.startswith('WKPL_KPI_')]\n",
    "monthly_kpi.sort()\n",
    "kpi_count = len(monthly_kpi)\n",
    "\n",
    "data_types = ['Contacts', 'NSL', 'NSL Prof', 'Alert', \n",
    "              'Sent (M)', 'Open (M)', 'Click (M)', 'Form (M)', \n",
    "              'Unsub (M)', 'Not Opened 10+ (Y)', 'Cookie Linked (A)']"
   ]
  },
  {
   "cell_type": "markdown",
   "metadata": {},
   "source": [
    "### Create different views"
   ]
  },
  {
   "cell_type": "markdown",
   "metadata": {},
   "source": [
    "#### Create excel file to store data"
   ]
  },
  {
   "cell_type": "code",
   "execution_count": 15,
   "metadata": {},
   "outputs": [],
   "source": [
    "excel = openpyxl.Workbook()\n",
    "source_sheet = excel.active\n",
    "source_sheet.title = 'Source Data'\n",
    "for data_type in data_types:\n",
    "    excel.create_sheet(title=data_type)"
   ]
  },
  {
   "cell_type": "markdown",
   "metadata": {},
   "source": [
    "#### Storing source data"
   ]
  },
  {
   "cell_type": "code",
   "execution_count": 16,
   "metadata": {},
   "outputs": [],
   "source": [
    "kpi_dates = []\n",
    "for csv_path in monthly_kpi:\n",
    "    # Get the MM-YY date from the path\n",
    "    kpi_date = csv_path.split('_')[-1][:-4]\n",
    "    kpi_dates.append(kpi_date)\n",
    "    # Load KPI table\n",
    "    kpi_csv = ds.Table.read_table(csv_path)\n",
    "    kpi_csv.relabel('Segment', kpi_date)\n",
    "    # Save all data points to source sheet\n",
    "    df = kpi_csv.to_df()\n",
    "    for row in dataframe_to_rows(df, index=False, header=True):\n",
    "        source_sheet.append(row)\n",
    "    # Add spacer\n",
    "    source_sheet.append([])"
   ]
  },
  {
   "cell_type": "markdown",
   "metadata": {},
   "source": [
    "#### Creating data tables"
   ]
  },
  {
   "cell_type": "code",
   "execution_count": 17,
   "metadata": {},
   "outputs": [],
   "source": [
    "for data_type in data_types:\n",
    "    # Creation of a data table for each data_type\n",
    "    data_table = ds.Table(ds.make_array(\n",
    "            data_type,\n",
    "            'ALL + WMR', 'ALL - WMR',\n",
    "            'LEG + WMR', 'LEG - WMR',\n",
    "            'PUB + WMR', 'PUB - WMR',\n",
    "            'FIR + WMR', 'FIR - WMR',\n",
    "            'OTH + WMR', 'OTH - WMR'))\n",
    "    \n",
    "    # Switching to correct excel sheet\n",
    "    data_sheet = excel[data_type]\n",
    "    data_sheet.freeze_panes = 'B2'\n",
    "    \n",
    "    for csv_path in monthly_kpi:\n",
    "        # Get the MM-YY date from the path\n",
    "        kpi_date = csv_path.split('_')[-1][:-4]\n",
    "        # Load KPI table\n",
    "        kpi_csv = ds.Table.read_table(csv_path)\n",
    "        # Create row with data for each month\n",
    "        data_row = [kpi_date]\n",
    "        data_row.extend(kpi_csv.column(data_type))\n",
    "        # Save all data points to table\n",
    "        data_table.append(data_row)\n",
    "        \n",
    "    # Saves data to excel file\n",
    "    df = data_table.to_df()\n",
    "    for row in dataframe_to_rows(df, index=False, header=True):\n",
    "        data_sheet.append(row)\n",
    "        \n",
    "    # Create chart for whole segment groups + and - WMR\n",
    "    sc_all = ScatterChart()\n",
    "    sc_all.title = data_type + ' Change'\n",
    "    sc_all.style = 13\n",
    "    sc_all.y_axis.title = data_type\n",
    "    sc_all.x_axis.title = 'Month'\n",
    "\n",
    "    x_values = Reference(data_sheet, min_col=1, min_row=1, max_row=(kpi_count + 1))\n",
    "    for i in range(2, 4):\n",
    "        y_values = Reference(data_sheet, min_col=i, min_row=1, max_row=(kpi_count + 1))\n",
    "        series = Series(y_values, x_values, title_from_data=True)\n",
    "        sc_all.series.append(series)\n",
    "\n",
    "    data_sheet.add_chart(sc_all, 'M4')\n",
    "\n",
    "    # Create chart for all +WMR segments \n",
    "    sc_seg = ScatterChart()\n",
    "    sc_seg.title = data_type + ' Change per Segment (WMR)'\n",
    "    sc_seg.style = 13\n",
    "    sc_seg.y_axis.title = data_type\n",
    "    sc_seg.x_axis.title = 'Month'\n",
    "\n",
    "    x_values = Reference(data_sheet, min_col=1, min_row=1, max_row=(kpi_count + 1))\n",
    "    for i in range(4, 12, 2):\n",
    "        y_values = Reference(data_sheet, min_col=i, min_row=1, max_row=(kpi_count + 1))\n",
    "        series = Series(y_values, x_values, title_from_data=True)\n",
    "        sc_seg.series.append(series)\n",
    "\n",
    "    data_sheet.add_chart(sc_seg, 'M20')\n",
    "    \n",
    "    # Create chart for all -WMR segments \n",
    "    sc_seg2 = ScatterChart()\n",
    "    sc_seg2.title = data_type + ' Change per Segment (no WMR)'\n",
    "    sc_seg2.style = 13\n",
    "    sc_seg2.y_axis.title = data_type\n",
    "    sc_seg2.x_axis.title = 'Month'\n",
    "\n",
    "    x_values = Reference(data_sheet, min_col=1, min_row=1, max_row=(kpi_count + 1))\n",
    "    for i in range(5, 12, 2):\n",
    "        y_values = Reference(data_sheet, min_col=i, min_row=1, max_row=(kpi_count + 1))\n",
    "        series = Series(y_values, x_values, title_from_data=True)\n",
    "        sc_seg2.series.append(series)\n",
    "\n",
    "    data_sheet.add_chart(sc_seg2, 'M36')"
   ]
  },
  {
   "cell_type": "markdown",
   "metadata": {},
   "source": [
    "## Saving data to excel"
   ]
  },
  {
   "cell_type": "code",
   "execution_count": 18,
   "metadata": {},
   "outputs": [],
   "source": [
    "excel.save('WKPL_Contact_KPI.xlsx')"
   ]
  }
 ],
 "metadata": {
  "kernelspec": {
   "display_name": "Python 3",
   "language": "python",
   "name": "python3"
  },
  "language_info": {
   "codemirror_mode": {
    "name": "ipython",
    "version": 3
   },
   "file_extension": ".py",
   "mimetype": "text/x-python",
   "name": "python",
   "nbconvert_exporter": "python",
   "pygments_lexer": "ipython3",
   "version": "3.6.6"
  }
 },
 "nbformat": 4,
 "nbformat_minor": 2
}
