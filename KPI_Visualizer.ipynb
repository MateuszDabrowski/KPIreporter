{
 "cells": [
  {
   "cell_type": "markdown",
   "metadata": {},
   "source": [
    "# KPI Visualizer"
   ]
  },
  {
   "cell_type": "markdown",
   "metadata": {},
   "source": [
    "Creates overview KPI .xls by data manipulation of available monthly data points."
   ]
  },
  {
   "cell_type": "markdown",
   "metadata": {},
   "source": [
    "## Data processing"
   ]
  },
  {
   "cell_type": "markdown",
   "metadata": {},
   "source": [
    "### Import and init modules:"
   ]
  },
  {
   "cell_type": "code",
   "execution_count": 1,
   "metadata": {},
   "outputs": [],
   "source": [
    "import os\n",
    "import openpyxl\n",
    "from openpyxl.styles import Font, Color\n",
    "from openpyxl.utils.dataframe import dataframe_to_rows\n",
    "\n",
    "import datascience as ds\n",
    "from datascience.predicates import are\n",
    "import numpy as np\n",
    "\n",
    "%matplotlib inline\n",
    "import matplotlib.pyplot as plots\n",
    "plots.style.use('fivethirtyeight')"
   ]
  },
  {
   "cell_type": "markdown",
   "metadata": {},
   "source": [
    "### List available KPI data points"
   ]
  },
  {
   "cell_type": "code",
   "execution_count": 2,
   "metadata": {},
   "outputs": [],
   "source": [
    "files = os.listdir()\n",
    "monthly_kpi = [f for f in files if f.startswith('WKPL_KPI_')]\n",
    "kpi_count = len(monthly_kpi)"
   ]
  },
  {
   "cell_type": "markdown",
   "metadata": {},
   "source": [
    "### Create different views"
   ]
  },
  {
   "cell_type": "markdown",
   "metadata": {},
   "source": [
    "#### Create excel file to store data"
   ]
  },
  {
   "cell_type": "code",
   "execution_count": 3,
   "metadata": {},
   "outputs": [
    {
     "data": {
      "text/plain": [
       "['Source Data',\n",
       " 'Contact Count',\n",
       " 'Email Activity (M)',\n",
       " 'Form Activity (M)',\n",
       " 'Blacklist Count (M)',\n",
       " 'Not Opened 10+ (Y)',\n",
       " 'Cookie Linked (A)']"
      ]
     },
     "execution_count": 3,
     "metadata": {},
     "output_type": "execute_result"
    }
   ],
   "source": [
    "excel = openpyxl.Workbook()\n",
    "source_sheet = excel.active\n",
    "source_sheet.title = 'Source Data'\n",
    "excel.create_sheet(title='Contact Count')\n",
    "excel.create_sheet(title='Email Activity (M)')\n",
    "excel.create_sheet(title='Form Activity (M)')\n",
    "excel.create_sheet(title='Blacklist Count (M)')\n",
    "excel.create_sheet(title='Not Opened 10+ (Y)')\n",
    "excel.create_sheet(title='Cookie Linked (A)')\n",
    "excel.sheetnames"
   ]
  },
  {
   "cell_type": "markdown",
   "metadata": {},
   "source": [
    "#### Storing source data"
   ]
  },
  {
   "cell_type": "code",
   "execution_count": 4,
   "metadata": {},
   "outputs": [],
   "source": [
    "for csv_path in monthly_kpi:\n",
    "    # Get the MM-YY date from the path\n",
    "    kpi_date = csv_path.split('_')[-1][:-4]\n",
    "    # Load KPI table\n",
    "    kpi_csv = ds.Table.read_table(csv_path)\n",
    "    kpi_csv.relabel('Segment', kpi_date)\n",
    "    # Save all data points to source sheet\n",
    "    df = kpi_csv.to_df()\n",
    "    for row in dataframe_to_rows(df, index=False, header=True):\n",
    "        source_sheet.append(row)\n",
    "    # Add spacer\n",
    "    source_sheet.append([])"
   ]
  },
  {
   "cell_type": "code",
   "execution_count": 5,
   "metadata": {},
   "outputs": [],
   "source": [
    "# Base array with segments\n",
    "segment_column = ds.make_array(\n",
    "        'ALL + WMR', 'ALL - WMR',\n",
    "        'LEG + WMR', 'LEG - WMR',\n",
    "        'PUB + WMR', 'PUB - WMR',\n",
    "        'FIR + WMR', 'FIR - WMR',\n",
    "        'OTH + WMR', 'OTH - WMR')"
   ]
  },
  {
   "cell_type": "markdown",
   "metadata": {},
   "source": [
    "#### Contact Count View"
   ]
  },
  {
   "cell_type": "code",
   "execution_count": 6,
   "metadata": {},
   "outputs": [],
   "source": [
    "contact_sheet = excel['Contact Count']\n",
    "contact_sheet.freeze_panes = 'B2'\n",
    "\n",
    "contact_view = ds.Table().with_column('Contact Count', segment_column)\n",
    "\n",
    "for csv_path in monthly_kpi:\n",
    "    # Get the MM-YY date from the path\n",
    "    kpi_date = csv_path.split('_')[-1][3:-4]\n",
    "    # Load KPI table\n",
    "    kpi_csv = ds.Table.read_table(csv_path)\n",
    "    # Save all data points\n",
    "    contact_view.append_column(f'Contacts {kpi_date}', kpi_csv.column('Contacts'))\n",
    "    contact_view.append_column(f'NSL {kpi_date}', kpi_csv.column('NSL'))\n",
    "    contact_view.append_column(f'NSL Prof {kpi_date}', kpi_csv.column('NSL Prof'))\n",
    "    contact_view.append_column(f'Alert {kpi_date}', kpi_csv.column('Alert'))\n",
    "\n",
    "# Sorts columns by type\n",
    "column_selector = [0]\n",
    "for i in range(4):\n",
    "    column_selector.extend(range(1 + i, 4 * kpi_count + 1, 4))\n",
    "contact_view = contact_view.select(column_selector)\n",
    "\n",
    "# Saves data to excel file\n",
    "df = contact_view.to_df()\n",
    "for row in dataframe_to_rows(df, index=False, header=True):\n",
    "    contact_sheet.append(row)"
   ]
  },
  {
   "cell_type": "markdown",
   "metadata": {},
   "source": [
    "#### Email Activity View"
   ]
  },
  {
   "cell_type": "code",
   "execution_count": 7,
   "metadata": {},
   "outputs": [],
   "source": [
    "email_sheet = excel['Email Activity (M)']\n",
    "email_sheet.freeze_panes = 'B2'\n",
    "\n",
    "email_view = ds.Table().with_column('Email Activity', segment_column)\n",
    "\n",
    "for csv_path in monthly_kpi:\n",
    "    # Get the MM-YY date from the path\n",
    "    kpi_date = csv_path.split('_')[-1][3:-4]\n",
    "    # Load KPI table\n",
    "    kpi_csv = ds.Table.read_table(csv_path)\n",
    "    # Save all data points\n",
    "    email_view.append_column(f'Sent {kpi_date}', kpi_csv.column('Sent (M)'))\n",
    "    email_view.append_column(f'Open {kpi_date}', kpi_csv.column('Open (M)'))\n",
    "    email_view.append_column(f'Click {kpi_date}', kpi_csv.column('Click (M)'))\n",
    "\n",
    "# Sorts columns by type\n",
    "column_selector = [0]\n",
    "for i in range(3):\n",
    "    column_selector.extend(range(1 + i, 3 * kpi_count + 1, 3))\n",
    "email_view = email_view.select(column_selector)\n",
    "\n",
    "# Saves data to excel file\n",
    "df = email_view.to_df()\n",
    "for row in dataframe_to_rows(df, index=False, header=True):\n",
    "    email_sheet.append(row)"
   ]
  },
  {
   "cell_type": "markdown",
   "metadata": {},
   "source": [
    "#### Form Activity View"
   ]
  },
  {
   "cell_type": "code",
   "execution_count": 8,
   "metadata": {},
   "outputs": [],
   "source": [
    "form_sheet = excel['Form Activity (M)']\n",
    "form_sheet.freeze_panes = 'B2'\n",
    "\n",
    "form_view = ds.Table().with_column('Form Activity', segment_column)\n",
    "\n",
    "for csv_path in monthly_kpi:\n",
    "    # Get the MM-YY date from the path\n",
    "    kpi_date = csv_path.split('_')[-1][3:-4]\n",
    "    # Load KPI table\n",
    "    kpi_csv = ds.Table.read_table(csv_path)\n",
    "    # Save all data points\n",
    "    form_view.append_column(kpi_date, kpi_csv.column('Form (M)'))\n",
    "\n",
    "# Saves data to excel file\n",
    "df = form_view.to_df()\n",
    "for row in dataframe_to_rows(df, index=False, header=True):\n",
    "    form_sheet.append(row)"
   ]
  },
  {
   "cell_type": "markdown",
   "metadata": {},
   "source": [
    "#### Blacklist View"
   ]
  },
  {
   "cell_type": "code",
   "execution_count": 9,
   "metadata": {},
   "outputs": [],
   "source": [
    "blacklist_sheet = excel['Blacklist Count (M)']\n",
    "blacklist_sheet.freeze_panes = 'B2'\n",
    "\n",
    "blacklist_view = ds.Table().with_column('Blacklist Count', segment_column)\n",
    "\n",
    "for csv_path in monthly_kpi:\n",
    "    # Get the MM-YY date from the path\n",
    "    kpi_date = csv_path.split('_')[-1][3:-4]\n",
    "    # Load KPI table\n",
    "    kpi_csv = ds.Table.read_table(csv_path)\n",
    "    # Save all data points\n",
    "    blacklist_view.append_column(kpi_date, kpi_csv.column('Unsub (M)'))\n",
    "\n",
    "# Saves data to excel file\n",
    "df = blacklist_view.to_df()\n",
    "for row in dataframe_to_rows(df, index=False, header=True):\n",
    "    blacklist_sheet.append(row)"
   ]
  },
  {
   "cell_type": "markdown",
   "metadata": {},
   "source": [
    "#### Not Opened View"
   ]
  },
  {
   "cell_type": "code",
   "execution_count": 10,
   "metadata": {},
   "outputs": [],
   "source": [
    "not_opened_sheet = excel['Not Opened 10+ (Y)']\n",
    "not_opened_sheet.freeze_panes = 'B2'\n",
    "\n",
    "not_opened_view = ds.Table().with_column('Not Opened 10+', segment_column)\n",
    "\n",
    "for csv_path in monthly_kpi:\n",
    "    # Get the MM-YY date from the path\n",
    "    kpi_date = csv_path.split('_')[-1][3:-4]\n",
    "    # Load KPI table\n",
    "    kpi_csv = ds.Table.read_table(csv_path)\n",
    "    # Save all data points\n",
    "    not_opened_view.append_column(kpi_date, kpi_csv.column('Not Opened 10+ (Y)'))\n",
    "\n",
    "# Saves data to excel file\n",
    "df = not_opened_view.to_df()\n",
    "for row in dataframe_to_rows(df, index=False, header=True):\n",
    "    not_opened_sheet.append(row)"
   ]
  },
  {
   "cell_type": "markdown",
   "metadata": {},
   "source": [
    "#### Cookie Link Count View"
   ]
  },
  {
   "cell_type": "code",
   "execution_count": 11,
   "metadata": {},
   "outputs": [],
   "source": [
    "cookie_sheet = excel['Cookie Linked (A)']\n",
    "cookie_sheet.freeze_panes = 'B2'\n",
    "\n",
    "cookie_view = ds.Table().with_column('Cookie Linked', segment_column)\n",
    "\n",
    "for csv_path in monthly_kpi:\n",
    "    # Get the MM-YY date from the path\n",
    "    kpi_date = csv_path.split('_')[-1][3:-4]\n",
    "    # Load KPI table\n",
    "    kpi_csv = ds.Table.read_table(csv_path)\n",
    "    # Save all data points\n",
    "    cookie_view.append_column(kpi_date, kpi_csv.column('Cookie Linked (A)'))\n",
    "\n",
    "# Saves data to excel file\n",
    "df = cookie_view.to_df()\n",
    "for row in dataframe_to_rows(df, index=False, header=True):\n",
    "    cookie_sheet.append(row)"
   ]
  },
  {
   "cell_type": "markdown",
   "metadata": {},
   "source": [
    "## Saving data to excel"
   ]
  },
  {
   "cell_type": "code",
   "execution_count": 12,
   "metadata": {},
   "outputs": [],
   "source": [
    "excel.save('WKPL_KPI.xlsx')"
   ]
  }
 ],
 "metadata": {
  "kernelspec": {
   "display_name": "Python 3",
   "language": "python",
   "name": "python3"
  },
  "language_info": {
   "codemirror_mode": {
    "name": "ipython",
    "version": 3
   },
   "file_extension": ".py",
   "mimetype": "text/x-python",
   "name": "python",
   "nbconvert_exporter": "python",
   "pygments_lexer": "ipython3",
   "version": "3.6.3"
  }
 },
 "nbformat": 4,
 "nbformat_minor": 2
}
